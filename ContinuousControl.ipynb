{
 "cells": [
  {
   "cell_type": "markdown",
   "metadata": {},
   "source": [
    "# Continuous Control\n",
    "\n",
    "---\n",
    "\n",
    "In this notebook, you will learn how to use the Unity ML-Agents environment for the second project of the [Deep Reinforcement Learning Nanodegree](https://www.udacity.com/course/deep-reinforcement-learning-nanodegree--nd893) program.\n",
    "\n",
    "### 1. Start the Environment\n",
    "\n",
    "We begin by importing the necessary packages.  If the code cell below returns an error, please revisit the project instructions to double-check that you have installed [Unity ML-Agents](https://github.com/Unity-Technologies/ml-agents/blob/master/docs/Installation.md) and [NumPy](http://www.numpy.org/)."
   ]
  },
  {
   "cell_type": "code",
   "execution_count": null,
   "metadata": {},
   "outputs": [],
   "source": [
    "from unityagents import UnityEnvironment\n",
    "import numpy as np"
   ]
  },
  {
   "cell_type": "markdown",
   "metadata": {},
   "source": [
    "Next, we will start the environment!  **_Before running the code cell below_**, change the `file_name` parameter to match the location of the Unity environment that you downloaded.\n",
    "\n",
    "- **Mac**: `\"path/to/Reacher.app\"`\n",
    "- **Windows** (x86): `\"path/to/Reacher_Windows_x86/Reacher.exe\"`\n",
    "- **Windows** (x86_64): `\"path/to/Reacher_Windows_x86_64/Reacher.exe\"`\n",
    "- **Linux** (x86): `\"path/to/Reacher_Linux/Reacher.x86\"`\n",
    "- **Linux** (x86_64): `\"path/to/Reacher_Linux/Reacher.x86_64\"`\n",
    "- **Linux** (x86, headless): `\"path/to/Reacher_Linux_NoVis/Reacher.x86\"`\n",
    "- **Linux** (x86_64, headless): `\"path/to/Reacher_Linux_NoVis/Reacher.x86_64\"`\n",
    "\n",
    "For instance, if you are using a Mac, then you downloaded `Reacher.app`.  If this file is in the same folder as the notebook, then the line below should appear as follows:\n",
    "```\n",
    "env = UnityEnvironment(file_name=\"Reacher.app\")\n",
    "```"
   ]
  },
  {
   "cell_type": "code",
   "execution_count": null,
   "metadata": {},
   "outputs": [],
   "source": [
    "env = UnityEnvironment(file_name='...')"
   ]
  },
  {
   "cell_type": "markdown",
   "metadata": {},
   "source": [
    "Environments contain **_brains_** which are responsible for deciding the actions of their associated agents. Here we check for the first brain available, and set it as the default brain we will be controlling from Python."
   ]
  },
  {
   "cell_type": "code",
   "execution_count": null,
   "metadata": {},
   "outputs": [],
   "source": [
    "# get the default brain\n",
    "brain_name = env.brain_names[0]\n",
    "brain = env.brains[brain_name]"
   ]
  },
  {
   "cell_type": "markdown",
   "metadata": {},
   "source": [
    "### 2. Examine the State and Action Spaces\n",
    "\n",
    "In this environment, a double-jointed arm can move to target locations. A reward of `+0.1` is provided for each step that the agent's hand is in the goal location. Thus, the goal of your agent is to maintain its position at the target location for as many time steps as possible.\n",
    "\n",
    "The observation space consists of `33` variables corresponding to position, rotation, velocity, and angular velocities of the arm.  Each action is a vector with four numbers, corresponding to torque applicable to two joints.  Every entry in the action vector must be a number between `-1` and `1`.\n",
    "\n",
    "Run the code cell below to print some information about the environment."
   ]
  },
  {
   "cell_type": "code",
   "execution_count": null,
   "metadata": {},
   "outputs": [],
   "source": [
    "# reset the environment\n",
    "env_info = env.reset(train_mode=True)[brain_name]\n",
    "\n",
    "# number of agents\n",
    "num_agents = len(env_info.agents)\n",
    "print('Number of agents:', num_agents)\n",
    "\n",
    "# size of each action\n",
    "action_size = brain.vector_action_space_size\n",
    "print('Size of each action:', action_size)\n",
    "\n",
    "# examine the state space \n",
    "states = env_info.vector_observations\n",
    "state_size = states.shape[1]\n",
    "print('There are {} agents. Each observes a state with length: {}'.format(states.shape[0], state_size))\n",
    "print('The state for the first agent looks like:', states[0])"
   ]
  },
  {
   "cell_type": "markdown",
   "metadata": {},
   "source": [
    "### 3. Take Random Actions in the Environment\n",
    "\n",
    "In the next code cell, you will learn how to use the Python API to control the agent and receive feedback from the environment.\n",
    "\n",
    "Once this cell is executed, you will watch the agent's performance, if it selects an action at random with each time step.  A window should pop up that allows you to observe the agent, as it moves through the environment.  \n",
    "\n",
    "Of course, as part of the project, you'll have to change the code so that the agent is able to use its experience to gradually choose better actions when interacting with the environment!"
   ]
  },
  {
   "cell_type": "code",
   "execution_count": null,
   "metadata": {},
   "outputs": [],
   "source": [
    "env_info = env.reset(train_mode=False)[brain_name]     # reset the environment    \n",
    "states = env_info.vector_observations                  # get the current state (for each agent)\n",
    "scores = np.zeros(num_agents)                          # initialize the score (for each agent)\n",
    "while True:\n",
    "    actions = np.random.randn(num_agents, action_size) # select an action (for each agent)\n",
    "    actions = np.clip(actions, -1, 1)                  # all actions between -1 and 1\n",
    "    env_info = env.step(actions)[brain_name]           # send all actions to tne environment\n",
    "    next_states = env_info.vector_observations         # get next state (for each agent)\n",
    "    rewards = env_info.rewards                         # get reward (for each agent)\n",
    "    dones = env_info.local_done                        # see if episode finished\n",
    "    scores += env_info.rewards                         # update the score (for each agent)\n",
    "    states = next_states                               # roll over states to next time step\n",
    "    if np.any(dones):                                  # exit loop if episode finished\n",
    "        break\n",
    "print('Total score (averaged over agents) this episode: {}'.format(np.mean(scores)))"
   ]
  },
  {
   "cell_type": "markdown",
   "metadata": {},
   "source": [
    "When finished, you can close the environment."
   ]
  },
  {
   "cell_type": "code",
   "execution_count": null,
   "metadata": {},
   "outputs": [],
   "source": [
    "env.close()"
   ]
  },
  {
   "cell_type": "markdown",
   "metadata": {},
   "source": [
    "### 4. It's Your Turn!\n",
    "\n",
    "Now it's your turn to train your own agent to solve the environment!  When training the environment, set `train_mode=True`, so that the line for resetting the environment looks like the following:\n",
    "```python\n",
    "env_info = env.reset(train_mode=True)[brain_name]\n",
    "```"
   ]
  },
  {
   "cell_type": "markdown",
   "metadata": {},
   "source": [
    "### Start from Here"
   ]
  },
  {
   "cell_type": "code",
   "execution_count": 1,
   "metadata": {},
   "outputs": [
    {
     "name": "stdout",
     "output_type": "stream",
     "text": [
      "['C:\\\\Users\\\\ANDREISolomon\\\\PycharmProjects\\\\deep-reinforcement-learning\\\\p2_continuous-control\\\\DRL-Continuous-Control', 'C:\\\\Users\\\\ANDREISolomon\\\\Miniconda3\\\\envs\\\\stan_env\\\\python37.zip', 'C:\\\\Users\\\\ANDREISolomon\\\\Miniconda3\\\\envs\\\\stan_env\\\\DLLs', 'C:\\\\Users\\\\ANDREISolomon\\\\Miniconda3\\\\envs\\\\stan_env\\\\lib', 'C:\\\\Users\\\\ANDREISolomon\\\\Miniconda3\\\\envs\\\\stan_env', '', 'C:\\\\Users\\\\ANDREISolomon\\\\AppData\\\\Roaming\\\\Python\\\\Python37\\\\site-packages', 'c:\\\\users\\\\andreisolomon\\\\appdata\\\\local\\\\programs\\\\python\\\\python37\\\\lib\\\\site-packages\\\\matplotlib-3.1.0rc1-py3.7-win-amd64.egg', 'c:\\\\users\\\\andreisolomon\\\\appdata\\\\local\\\\programs\\\\python\\\\python37\\\\lib\\\\site-packages\\\\python_dateutil-2.8.0-py3.7.egg', 'c:\\\\users\\\\andreisolomon\\\\appdata\\\\local\\\\programs\\\\python\\\\python37\\\\lib\\\\site-packages\\\\pyparsing-2.4.0-py3.7.egg', 'c:\\\\users\\\\andreisolomon\\\\appdata\\\\local\\\\programs\\\\python\\\\python37\\\\lib\\\\site-packages\\\\kiwisolver-1.1.0-py3.7-win-amd64.egg', 'c:\\\\users\\\\andreisolomon\\\\appdata\\\\local\\\\programs\\\\python\\\\python37\\\\lib\\\\site-packages\\\\cycler-0.10.0-py3.7.egg', 'c:\\\\users\\\\andreisolomon\\\\appdata\\\\local\\\\programs\\\\python\\\\python37\\\\lib\\\\site-packages\\\\six-1.12.0-py3.7.egg', 'c:\\\\users\\\\andreisolomon\\\\appdata\\\\local\\\\programs\\\\python\\\\python37\\\\lib\\\\site-packages', 'C:\\\\Users\\\\ANDREISolomon\\\\Miniconda3\\\\envs\\\\stan_env\\\\lib\\\\site-packages', 'c:\\\\users\\\\andreisolomon\\\\pycharmprojects\\\\deep-reinforcement-learning\\\\lunarlander\\\\gym', 'c:\\\\users\\\\andreisolomon\\\\appdata\\\\local\\\\programs\\\\python\\\\python37\\\\lib\\\\site-packages\\\\IPython\\\\extensions', 'C:\\\\Users\\\\ANDREISolomon\\\\.ipython', 'C:/Users/ANDREISolomon/PycharmProjects/deep-reinforcement-learning/python']\n"
     ]
    }
   ],
   "source": [
    "import os, sys\n",
    "sys.path\n",
    "sys.path.append(os.path.join(\"C:/Users/ANDREISolomon/PycharmProjects/deep-reinforcement-learning/python\"))\n",
    "print(sys.path)"
   ]
  },
  {
   "cell_type": "code",
   "execution_count": 2,
   "metadata": {},
   "outputs": [
    {
     "name": "stderr",
     "output_type": "stream",
     "text": [
      "INFO:unityagents:\n",
      "'Academy' started successfully!\n",
      "Unity Academy name: Academy\n",
      "        Number of Brains: 1\n",
      "        Number of External Brains : 1\n",
      "        Lesson number : 0\n",
      "        Reset Parameters :\n",
      "\t\tgoal_speed -> 1.0\n",
      "\t\tgoal_size -> 5.0\n",
      "Unity brain name: ReacherBrain\n",
      "        Number of Visual Observations (per agent): 0\n",
      "        Vector Observation space type: continuous\n",
      "        Vector Observation space size (per agent): 33\n",
      "        Number of stacked Vector Observation: 1\n",
      "        Vector Action space type: continuous\n",
      "        Vector Action space size (per agent): 4\n",
      "        Vector Action descriptions: , , , \n"
     ]
    }
   ],
   "source": [
    "from unityagents import UnityEnvironment\n",
    "import numpy as np\n",
    "\n",
    "# select this option to load version 1 (with a single agent) of the environment\n",
    "# env = UnityEnvironment(file_name='/data/Reacher_One_Linux_NoVis/Reacher_One_Linux_NoVis.x86_64')\n",
    "\n",
    "# select this option to load version 2 (with 20 agents) of the environment\n",
    "env = UnityEnvironment(file_name='./20_Reacher_Windows_x86_64/Reacher.exe')"
   ]
  },
  {
   "cell_type": "code",
   "execution_count": 3,
   "metadata": {},
   "outputs": [],
   "source": [
    "# get the default brain\n",
    "brain_name = env.brain_names[0]\n",
    "brain = env.brains[brain_name]"
   ]
  },
  {
   "cell_type": "code",
   "execution_count": 4,
   "metadata": {},
   "outputs": [
    {
     "name": "stdout",
     "output_type": "stream",
     "text": [
      "Number of agents: 20\n",
      "Size of each action: 4\n",
      "There are 20 agents. Each observes a state with length: 33\n",
      "The state for the first agent looks like: [ 0.00000000e+00 -4.00000000e+00  0.00000000e+00  1.00000000e+00\n",
      " -0.00000000e+00 -0.00000000e+00 -4.37113883e-08  0.00000000e+00\n",
      "  0.00000000e+00  0.00000000e+00  0.00000000e+00  0.00000000e+00\n",
      "  0.00000000e+00  0.00000000e+00 -1.00000000e+01  0.00000000e+00\n",
      "  1.00000000e+00 -0.00000000e+00 -0.00000000e+00 -4.37113883e-08\n",
      "  0.00000000e+00  0.00000000e+00  0.00000000e+00  0.00000000e+00\n",
      "  0.00000000e+00  0.00000000e+00  5.75471878e+00 -1.00000000e+00\n",
      "  5.55726624e+00  0.00000000e+00  1.00000000e+00  0.00000000e+00\n",
      " -1.68164849e-01]\n"
     ]
    }
   ],
   "source": [
    "# reset the environment\n",
    "env_info = env.reset(train_mode=True)[brain_name]\n",
    "\n",
    "# number of agents\n",
    "num_agents = len(env_info.agents)\n",
    "print('Number of agents:', num_agents)\n",
    "\n",
    "# size of each action\n",
    "action_size = brain.vector_action_space_size\n",
    "print('Size of each action:', action_size)\n",
    "\n",
    "# examine the state space \n",
    "states = env_info.vector_observations\n",
    "state_size = states.shape[1]\n",
    "print('There are {} agents. Each observes a state with length: {}'.format(states.shape[0], state_size))\n",
    "print('The state for the first agent looks like:', states[0])"
   ]
  },
  {
   "cell_type": "code",
   "execution_count": 5,
   "metadata": {},
   "outputs": [],
   "source": [
    "from ddpg_agent import Agent\n",
    "from collections import deque\n",
    "import matplotlib.pyplot as plt\n",
    "import torch\n",
    "import time\n",
    "from workspace_utils import active_session"
   ]
  },
  {
   "cell_type": "code",
   "execution_count": 6,
   "metadata": {},
   "outputs": [
    {
     "name": "stdout",
     "output_type": "stream",
     "text": [
      "Episode 1, Average Score: 0.80, Max Score: 1.58, Min Score: 0.25, Time per Episode: 65.10\n",
      "Epsilon: 0.9996079999999887 and Memory size: 10020\n",
      "Episode 2, Average Score: 0.69, Max Score: 1.26, Min Score: 0.00, Time per Episode: 63.75\n",
      "Epsilon: 0.9992079999999772 and Memory size: 20040\n",
      "Episode 3, Average Score: 0.80, Max Score: 1.93, Min Score: 0.13, Time per Episode: 62.56\n",
      "Epsilon: 0.9988079999999657 and Memory size: 30060\n",
      "Episode 4, Average Score: 1.02, Max Score: 3.12, Min Score: 0.61, Time per Episode: 64.17\n",
      "Epsilon: 0.9984079999999542 and Memory size: 40080\n",
      "Episode 5, Average Score: 1.17, Max Score: 4.68, Min Score: 0.33, Time per Episode: 63.02\n",
      "Epsilon: 0.9980079999999427 and Memory size: 50100\n",
      "Episode 6, Average Score: 1.29, Max Score: 4.42, Min Score: 0.15, Time per Episode: 64.28\n",
      "Epsilon: 0.9976079999999312 and Memory size: 60120\n",
      "Episode 7, Average Score: 1.41, Max Score: 3.19, Min Score: 1.20, Time per Episode: 65.81\n",
      "Epsilon: 0.9972079999999197 and Memory size: 70140\n",
      "Episode 8, Average Score: 1.56, Max Score: 5.35, Min Score: 1.04, Time per Episode: 67.12\n",
      "Epsilon: 0.9968079999999082 and Memory size: 80160\n",
      "Episode 9, Average Score: 1.68, Max Score: 5.17, Min Score: 1.06, Time per Episode: 64.93\n",
      "Epsilon: 0.9964079999998967 and Memory size: 90180\n",
      "Episode 10, Average Score: 1.87, Max Score: 5.81, Min Score: 1.89, Time per Episode: 65.27\n",
      "Epsilon: 0.9960079999998852 and Memory size: 100200\n",
      "Episode 11, Average Score: 2.08, Max Score: 7.88, Min Score: 1.81, Time per Episode: 65.90\n",
      "Epsilon: 0.9956071999998737 and Memory size: 110200\n",
      "Episode 12, Average Score: 2.29, Max Score: 7.63, Min Score: 2.39, Time per Episode: 65.39\n",
      "Epsilon: 0.9952063999998622 and Memory size: 120200\n",
      "Episode 13, Average Score: 2.42, Max Score: 6.42, Min Score: 2.53, Time per Episode: 65.25\n",
      "Epsilon: 0.9948055999998506 and Memory size: 130200\n",
      "Episode 14, Average Score: 2.60, Max Score: 7.21, Min Score: 1.98, Time per Episode: 65.32\n",
      "Epsilon: 0.9944047999998391 and Memory size: 140200\n",
      "Episode 15, Average Score: 2.81, Max Score: 9.86, Min Score: 1.82, Time per Episode: 65.80\n",
      "Epsilon: 0.9940039999998276 and Memory size: 150200\n",
      "Episode 16, Average Score: 3.00, Max Score: 8.09, Min Score: 2.98, Time per Episode: 65.98\n",
      "Epsilon: 0.9936031999998161 and Memory size: 160200\n",
      "Episode 17, Average Score: 3.22, Max Score: 9.63, Min Score: 3.35, Time per Episode: 66.34\n",
      "Epsilon: 0.9932023999998045 and Memory size: 170200\n",
      "Episode 18, Average Score: 3.51, Max Score: 12.14, Min Score: 4.68, Time per Episode: 66.62\n",
      "Epsilon: 0.992801599999793 and Memory size: 180200\n",
      "Episode 19, Average Score: 3.79, Max Score: 13.71, Min Score: 5.27, Time per Episode: 66.81\n",
      "Epsilon: 0.9924007999997815 and Memory size: 190200\n",
      "Episode 20, Average Score: 4.02, Max Score: 12.29, Min Score: 6.23, Time per Episode: 67.74\n",
      "Epsilon: 0.99199999999977 and Memory size: 200200\n",
      "Episode 21, Average Score: 4.35, Max Score: 20.14, Min Score: 5.45, Time per Episode: 67.29\n",
      "Epsilon: 0.9915999999997585 and Memory size: 210220\n",
      "Episode 22, Average Score: 4.60, Max Score: 13.65, Min Score: 5.43, Time per Episode: 69.83\n",
      "Epsilon: 0.991199999999747 and Memory size: 220240\n",
      "Episode 23, Average Score: 4.97, Max Score: 18.25, Min Score: 8.26, Time per Episode: 68.69\n",
      "Epsilon: 0.9907999999997354 and Memory size: 230260\n",
      "Episode 24, Average Score: 5.37, Max Score: 21.86, Min Score: 8.71, Time per Episode: 68.52\n",
      "Epsilon: 0.990399999999724 and Memory size: 240280\n",
      "Episode 25, Average Score: 5.83, Max Score: 26.73, Min Score: 7.95, Time per Episode: 69.76\n",
      "Epsilon: 0.9899999999997124 and Memory size: 250300\n",
      "Episode 26, Average Score: 6.33, Max Score: 30.48, Min Score: 6.74, Time per Episode: 69.77\n",
      "Epsilon: 0.9895999999997009 and Memory size: 260320\n",
      "Episode 27, Average Score: 6.91, Max Score: 34.75, Min Score: 7.11, Time per Episode: 70.32\n",
      "Epsilon: 0.9891999999996894 and Memory size: 270340\n",
      "Episode 28, Average Score: 7.55, Max Score: 33.81, Min Score: 7.81, Time per Episode: 70.60\n",
      "Epsilon: 0.9887999999996779 and Memory size: 280360\n",
      "Episode 29, Average Score: 8.17, Max Score: 33.19, Min Score: 16.82, Time per Episode: 71.42\n",
      "Epsilon: 0.9883999999996664 and Memory size: 290380\n",
      "Episode 30, Average Score: 8.63, Max Score: 39.47, Min Score: 11.57, Time per Episode: 71.36\n",
      "Epsilon: 0.9879999999996549 and Memory size: 300400\n",
      "Episode 31, Average Score: 9.13, Max Score: 35.30, Min Score: 10.06, Time per Episode: 71.85\n",
      "Epsilon: 0.9875991999996434 and Memory size: 310400\n",
      "Episode 32, Average Score: 9.70, Max Score: 37.50, Min Score: 11.65, Time per Episode: 72.79\n",
      "Epsilon: 0.9871983999996319 and Memory size: 320400\n",
      "Episode 33, Average Score: 10.39, Max Score: 38.69, Min Score: 20.86, Time per Episode: 72.76\n",
      "Epsilon: 0.9867975999996204 and Memory size: 330400\n",
      "Episode 34, Average Score: 11.01, Max Score: 39.38, Min Score: 25.56, Time per Episode: 73.09\n",
      "Epsilon: 0.9863967999996088 and Memory size: 340400\n",
      "Episode 35, Average Score: 11.61, Max Score: 38.45, Min Score: 22.96, Time per Episode: 74.11\n",
      "Epsilon: 0.9859959999995973 and Memory size: 350400\n",
      "Episode 36, Average Score: 12.19, Max Score: 38.26, Min Score: 17.56, Time per Episode: 73.75\n",
      "Epsilon: 0.9855951999995858 and Memory size: 360400\n",
      "Episode 37, Average Score: 12.82, Max Score: 39.14, Min Score: 28.01, Time per Episode: 74.63\n",
      "Epsilon: 0.9851943999995743 and Memory size: 370400\n",
      "Episode 38, Average Score: 13.45, Max Score: 39.24, Min Score: 28.68, Time per Episode: 74.37\n",
      "Epsilon: 0.9847935999995627 and Memory size: 380400\n",
      "Episode 39, Average Score: 13.95, Max Score: 39.53, Min Score: 23.47, Time per Episode: 74.95\n",
      "Epsilon: 0.9843927999995512 and Memory size: 390400\n",
      "Episode 40, Average Score: 14.43, Max Score: 39.44, Min Score: 22.31, Time per Episode: 75.29\n",
      "Epsilon: 0.9839919999995397 and Memory size: 400400\n",
      "Episode 41, Average Score: 14.92, Max Score: 39.49, Min Score: 25.72, Time per Episode: 75.60\n",
      "Epsilon: 0.9835919999995282 and Memory size: 410420\n",
      "Episode 42, Average Score: 15.42, Max Score: 39.45, Min Score: 27.27, Time per Episode: 76.77\n",
      "Epsilon: 0.9831919999995167 and Memory size: 420440\n",
      "Episode 43, Average Score: 15.94, Max Score: 39.54, Min Score: 26.05, Time per Episode: 76.29\n",
      "Epsilon: 0.9827919999995052 and Memory size: 430460\n",
      "Episode 44, Average Score: 16.38, Max Score: 38.81, Min Score: 24.39, Time per Episode: 76.40\n",
      "Epsilon: 0.9823919999994937 and Memory size: 440480\n",
      "Episode 45, Average Score: 16.83, Max Score: 39.51, Min Score: 28.82, Time per Episode: 77.43\n",
      "Epsilon: 0.9819919999994822 and Memory size: 450500\n",
      "Episode 46, Average Score: 17.27, Max Score: 39.46, Min Score: 27.23, Time per Episode: 77.13\n",
      "Epsilon: 0.9815919999994707 and Memory size: 460520\n",
      "Episode 47, Average Score: 17.66, Max Score: 39.50, Min Score: 30.28, Time per Episode: 77.78\n",
      "Epsilon: 0.9811919999994592 and Memory size: 470540\n",
      "Episode 48, Average Score: 18.02, Max Score: 39.12, Min Score: 19.21, Time per Episode: 77.86\n",
      "Epsilon: 0.9807919999994477 and Memory size: 480560\n",
      "Episode 49, Average Score: 18.40, Max Score: 39.51, Min Score: 29.86, Time per Episode: 78.15\n",
      "Epsilon: 0.9803919999994362 and Memory size: 490580\n",
      "Episode 50, Average Score: 18.76, Max Score: 39.39, Min Score: 25.65, Time per Episode: 76.97\n",
      "Epsilon: 0.9799919999994247 and Memory size: 500600\n",
      "Episode 51, Average Score: 19.11, Max Score: 39.41, Min Score: 31.69, Time per Episode: 79.71\n",
      "Epsilon: 0.9795911999994131 and Memory size: 510600\n",
      "Episode 52, Average Score: 19.44, Max Score: 39.31, Min Score: 30.65, Time per Episode: 80.56\n",
      "Epsilon: 0.9791903999994016 and Memory size: 520600\n",
      "Episode 53, Average Score: 19.75, Max Score: 38.53, Min Score: 29.65, Time per Episode: 79.36\n",
      "Epsilon: 0.9787895999993901 and Memory size: 530600\n",
      "Episode 54, Average Score: 20.05, Max Score: 39.14, Min Score: 30.66, Time per Episode: 78.58\n",
      "Epsilon: 0.9783887999993786 and Memory size: 540600\n",
      "Episode 55, Average Score: 20.29, Max Score: 38.28, Min Score: 25.92, Time per Episode: 78.92\n",
      "Epsilon: 0.977987999999367 and Memory size: 550600\n",
      "Episode 56, Average Score: 20.50, Max Score: 38.92, Min Score: 25.04, Time per Episode: 79.54\n",
      "Epsilon: 0.9775871999993555 and Memory size: 560600\n",
      "Episode 57, Average Score: 20.77, Max Score: 38.82, Min Score: 28.84, Time per Episode: 80.10\n",
      "Epsilon: 0.977186399999344 and Memory size: 570600\n"
     ]
    },
    {
     "name": "stdout",
     "output_type": "stream",
     "text": [
      "Episode 58, Average Score: 21.01, Max Score: 38.29, Min Score: 28.99, Time per Episode: 79.98\n",
      "Epsilon: 0.9767855999993325 and Memory size: 580600\n",
      "Episode 59, Average Score: 21.22, Max Score: 39.55, Min Score: 26.28, Time per Episode: 80.59\n",
      "Epsilon: 0.9763847999993209 and Memory size: 590600\n",
      "Episode 60, Average Score: 21.39, Max Score: 39.24, Min Score: 23.06, Time per Episode: 80.80\n",
      "Epsilon: 0.9759839999993094 and Memory size: 600600\n",
      "Episode 61, Average Score: 21.60, Max Score: 39.51, Min Score: 28.59, Time per Episode: 83.02\n",
      "Epsilon: 0.9755839999992979 and Memory size: 610620\n",
      "Episode 62, Average Score: 21.79, Max Score: 38.66, Min Score: 25.12, Time per Episode: 82.90\n",
      "Epsilon: 0.9751839999992864 and Memory size: 620640\n",
      "Episode 63, Average Score: 22.01, Max Score: 39.47, Min Score: 26.03, Time per Episode: 83.38\n",
      "Epsilon: 0.9747839999992749 and Memory size: 630660\n",
      "Episode 64, Average Score: 22.17, Max Score: 37.45, Min Score: 19.07, Time per Episode: 84.12\n",
      "Epsilon: 0.9743839999992634 and Memory size: 640680\n",
      "Episode 65, Average Score: 22.33, Max Score: 38.47, Min Score: 25.12, Time per Episode: 83.96\n",
      "Epsilon: 0.9739839999992519 and Memory size: 650700\n",
      "Episode 66, Average Score: 22.48, Max Score: 39.10, Min Score: 15.08, Time per Episode: 85.13\n",
      "Epsilon: 0.9735839999992404 and Memory size: 660720\n",
      "Episode 67, Average Score: 22.60, Max Score: 38.64, Min Score: 11.35, Time per Episode: 84.94\n",
      "Epsilon: 0.9731839999992289 and Memory size: 670740\n",
      "Episode 68, Average Score: 22.74, Max Score: 38.93, Min Score: 19.13, Time per Episode: 85.88\n",
      "Epsilon: 0.9727839999992174 and Memory size: 680760\n",
      "Episode 69, Average Score: 22.93, Max Score: 39.48, Min Score: 27.09, Time per Episode: 86.01\n",
      "Epsilon: 0.9723839999992059 and Memory size: 690780\n",
      "Episode 70, Average Score: 23.08, Max Score: 39.41, Min Score: 24.99, Time per Episode: 86.28\n",
      "Epsilon: 0.9719839999991944 and Memory size: 700800\n",
      "Episode 71, Average Score: 23.27, Max Score: 39.45, Min Score: 26.51, Time per Episode: 86.45\n",
      "Epsilon: 0.9715831999991829 and Memory size: 710800\n",
      "Episode 72, Average Score: 23.45, Max Score: 38.97, Min Score: 27.35, Time per Episode: 88.68\n",
      "Epsilon: 0.9711823999991713 and Memory size: 720800\n",
      "Episode 73, Average Score: 23.62, Max Score: 39.40, Min Score: 25.17, Time per Episode: 87.34\n",
      "Epsilon: 0.9707815999991598 and Memory size: 730800\n",
      "Episode 74, Average Score: 23.79, Max Score: 39.44, Min Score: 32.57, Time per Episode: 88.79\n",
      "Epsilon: 0.9703807999991483 and Memory size: 740800\n",
      "Episode 75, Average Score: 23.95, Max Score: 39.13, Min Score: 30.43, Time per Episode: 88.70\n",
      "Epsilon: 0.9699799999991368 and Memory size: 750800\n",
      "Episode 76, Average Score: 24.11, Max Score: 39.05, Min Score: 29.16, Time per Episode: 87.01\n",
      "Epsilon: 0.9695791999991252 and Memory size: 760800\n",
      "Episode 77, Average Score: 24.27, Max Score: 39.59, Min Score: 31.13, Time per Episode: 90.03\n",
      "Epsilon: 0.9691783999991137 and Memory size: 770800\n",
      "Episode 78, Average Score: 24.43, Max Score: 39.55, Min Score: 33.28, Time per Episode: 89.60\n",
      "Epsilon: 0.9687775999991022 and Memory size: 780800\n",
      "Episode 79, Average Score: 24.60, Max Score: 39.10, Min Score: 34.97, Time per Episode: 90.64\n",
      "Epsilon: 0.9683767999990907 and Memory size: 790800\n",
      "Episode 80, Average Score: 24.76, Max Score: 39.56, Min Score: 31.65, Time per Episode: 89.49\n",
      "Epsilon: 0.9679759999990791 and Memory size: 800800\n",
      "Episode 81, Average Score: 24.92, Max Score: 39.51, Min Score: 33.41, Time per Episode: 89.69\n",
      "Epsilon: 0.9675759999990676 and Memory size: 810820\n",
      "Episode 82, Average Score: 25.08, Max Score: 39.65, Min Score: 33.82, Time per Episode: 91.26\n",
      "Epsilon: 0.9671759999990561 and Memory size: 820840\n",
      "Episode 83, Average Score: 25.23, Max Score: 39.47, Min Score: 32.59, Time per Episode: 90.59\n",
      "Epsilon: 0.9667759999990446 and Memory size: 830860\n",
      "Episode 84, Average Score: 25.37, Max Score: 39.42, Min Score: 33.49, Time per Episode: 94.89\n",
      "Epsilon: 0.9663759999990331 and Memory size: 840880\n",
      "Episode 85, Average Score: 25.51, Max Score: 39.53, Min Score: 35.10, Time per Episode: 91.76\n",
      "Epsilon: 0.9659759999990216 and Memory size: 850900\n",
      "Episode 86, Average Score: 25.65, Max Score: 39.39, Min Score: 34.81, Time per Episode: 89.20\n",
      "Epsilon: 0.9655759999990101 and Memory size: 860920\n",
      "Episode 87, Average Score: 25.79, Max Score: 39.51, Min Score: 33.50, Time per Episode: 89.47\n",
      "Epsilon: 0.9651759999989986 and Memory size: 870940\n",
      "Episode 88, Average Score: 25.93, Max Score: 39.23, Min Score: 34.83, Time per Episode: 91.85\n",
      "Epsilon: 0.9647759999989871 and Memory size: 880960\n",
      "Episode 89, Average Score: 26.06, Max Score: 39.07, Min Score: 35.05, Time per Episode: 93.09\n",
      "Epsilon: 0.9643759999989756 and Memory size: 890980\n",
      "Episode 90, Average Score: 26.19, Max Score: 39.50, Min Score: 32.55, Time per Episode: 93.51\n",
      "Epsilon: 0.9639759999989641 and Memory size: 901000\n",
      "Episode 91, Average Score: 26.31, Max Score: 39.41, Min Score: 33.34, Time per Episode: 93.59\n",
      "Epsilon: 0.9635751999989526 and Memory size: 911000\n",
      "Episode 92, Average Score: 26.43, Max Score: 39.53, Min Score: 31.95, Time per Episode: 95.15\n",
      "Epsilon: 0.963174399998941 and Memory size: 921000\n",
      "Episode 93, Average Score: 26.55, Max Score: 39.45, Min Score: 34.72, Time per Episode: 96.40\n",
      "Epsilon: 0.9627735999989295 and Memory size: 931000\n",
      "Episode 94, Average Score: 26.66, Max Score: 39.54, Min Score: 33.45, Time per Episode: 96.27\n",
      "Epsilon: 0.962372799998918 and Memory size: 941000\n",
      "Episode 95, Average Score: 26.76, Max Score: 39.61, Min Score: 32.53, Time per Episode: 95.58\n",
      "Epsilon: 0.9619719999989065 and Memory size: 951000\n",
      "Episode 96, Average Score: 26.87, Max Score: 39.60, Min Score: 33.47, Time per Episode: 96.51\n",
      "Epsilon: 0.961571199998895 and Memory size: 961000\n",
      "Episode 97, Average Score: 26.96, Max Score: 39.15, Min Score: 31.93, Time per Episode: 96.22\n",
      "Epsilon: 0.9611703999988834 and Memory size: 971000\n",
      "Episode 98, Average Score: 27.06, Max Score: 38.64, Min Score: 33.20, Time per Episode: 96.86\n",
      "Epsilon: 0.9607695999988719 and Memory size: 981000\n",
      "Episode 99, Average Score: 27.16, Max Score: 38.84, Min Score: 33.49, Time per Episode: 100.65\n",
      "Epsilon: 0.9603687999988604 and Memory size: 991000\n",
      "Episode 100, Average Score: 27.25, Max Score: 39.42, Min Score: 28.92, Time per Episode: 99.16\n",
      "Epsilon: 0.9599679999988489 and Memory size: 1000000\n",
      "Episode 101, Average Score: 27.62, Max Score: 39.39, Min Score: 34.55, Time per Episode: 95.76\n",
      "Epsilon: 0.9595679999988374 and Memory size: 1000000\n",
      "Episode 102, Average Score: 27.98, Max Score: 39.16, Min Score: 31.67, Time per Episode: 93.92\n",
      "Epsilon: 0.9591679999988258 and Memory size: 1000000\n",
      "Episode 103, Average Score: 28.35, Max Score: 39.29, Min Score: 35.35, Time per Episode: 94.14\n",
      "Epsilon: 0.9587679999988143 and Memory size: 1000000\n",
      "Episode 104, Average Score: 28.71, Max Score: 39.17, Min Score: 34.89, Time per Episode: 94.25\n",
      "Epsilon: 0.9583679999988028 and Memory size: 1000000\n",
      "Episode 105, Average Score: 29.06, Max Score: 39.44, Min Score: 29.96, Time per Episode: 94.24\n",
      "Epsilon: 0.9579679999987913 and Memory size: 1000000\n",
      "Episode 106, Average Score: 29.41, Max Score: 39.42, Min Score: 31.99, Time per Episode: 94.34\n",
      "Epsilon: 0.9575679999987798 and Memory size: 1000000\n",
      "Episode 107, Average Score: 29.75, Max Score: 39.16, Min Score: 29.89, Time per Episode: 94.29\n",
      "Epsilon: 0.9571679999987683 and Memory size: 1000000\n",
      "Episode 108, Average Score: 30.09, Max Score: 39.32, Min Score: 32.63, Time per Episode: 93.86\n",
      "Epsilon: 0.9567679999987568 and Memory size: 1000000\n",
      "Episode 109, Average Score: 30.43, Max Score: 38.08, Min Score: 28.78, Time per Episode: 94.51\n",
      "Epsilon: 0.9563679999987453 and Memory size: 1000000\n",
      "Episode 110, Average Score: 30.75, Max Score: 38.44, Min Score: 31.93, Time per Episode: 96.26\n",
      "Epsilon: 0.9559679999987338 and Memory size: 1000000\n",
      "Episode 111, Average Score: 31.09, Max Score: 39.53, Min Score: 33.91, Time per Episode: 97.03\n",
      "Epsilon: 0.9555671999987223 and Memory size: 1000000\n",
      "Episode 112, Average Score: 31.43, Max Score: 39.40, Min Score: 35.87, Time per Episode: 98.34\n",
      "Epsilon: 0.9551663999987108 and Memory size: 1000000\n",
      "Episode 113, Average Score: 31.77, Max Score: 39.35, Min Score: 35.99, Time per Episode: 99.99\n",
      "Epsilon: 0.9547655999986993 and Memory size: 1000000\n"
     ]
    },
    {
     "name": "stdout",
     "output_type": "stream",
     "text": [
      "Episode 114, Average Score: 32.10, Max Score: 39.45, Min Score: 35.56, Time per Episode: 100.83\n",
      "Epsilon: 0.9543647999986877 and Memory size: 1000000\n",
      "Episode 115, Average Score: 32.41, Max Score: 38.81, Min Score: 33.56, Time per Episode: 100.87\n",
      "Epsilon: 0.9539639999986762 and Memory size: 1000000\n",
      "Episode 116, Average Score: 32.73, Max Score: 39.37, Min Score: 35.42, Time per Episode: 101.19\n",
      "Epsilon: 0.9535631999986647 and Memory size: 1000000\n",
      "Episode 117, Average Score: 33.04, Max Score: 39.50, Min Score: 34.40, Time per Episode: 97.45\n",
      "Epsilon: 0.9531623999986532 and Memory size: 1000000\n",
      "Episode 118, Average Score: 33.32, Max Score: 38.88, Min Score: 32.81, Time per Episode: 97.33\n",
      "Epsilon: 0.9527615999986416 and Memory size: 1000000\n",
      "Episode 119, Average Score: 33.58, Max Score: 39.59, Min Score: 27.93, Time per Episode: 97.67\n",
      "Epsilon: 0.9523607999986301 and Memory size: 1000000\n",
      "Episode 120, Average Score: 33.86, Max Score: 39.65, Min Score: 24.67, Time per Episode: 97.47\n",
      "Epsilon: 0.9519599999986186 and Memory size: 1000000\n",
      "Episode 121, Average Score: 34.11, Max Score: 39.46, Min Score: 31.27, Time per Episode: 97.39\n",
      "Epsilon: 0.9515599999986071 and Memory size: 1000000\n",
      "Episode 122, Average Score: 34.34, Max Score: 39.37, Min Score: 21.71, Time per Episode: 97.32\n",
      "Epsilon: 0.9511599999985956 and Memory size: 1000000\n",
      "Episode 123, Average Score: 34.58, Max Score: 39.48, Min Score: 30.72, Time per Episode: 96.56\n",
      "Epsilon: 0.9507599999985841 and Memory size: 1000000\n",
      "Episode 124, Average Score: 34.77, Max Score: 39.27, Min Score: 26.64, Time per Episode: 96.78\n",
      "Epsilon: 0.9503599999985726 and Memory size: 1000000\n",
      "Episode 125, Average Score: 34.95, Max Score: 39.25, Min Score: 19.89, Time per Episode: 97.19\n",
      "Epsilon: 0.9499599999985611 and Memory size: 1000000\n",
      "Episode 126, Average Score: 35.12, Max Score: 39.31, Min Score: 14.34, Time per Episode: 97.25\n",
      "Epsilon: 0.9495599999985496 and Memory size: 1000000\n",
      "Done!!\n"
     ]
    }
   ],
   "source": [
    "NUMBER_TRAINING_GAMES = 2000\n",
    "saved_models_folder = \"\"\n",
    "\n",
    "# with active_session():\n",
    "agent = Agent(state_size=state_size, action_size=action_size, random_seed=2, number_agents=num_agents)\n",
    "\n",
    "def ddpg(number_episodes=NUMBER_TRAINING_GAMES, max_t=300, print_every=1):\n",
    "    scores_deque = deque(maxlen=100)\n",
    "    scores = []\n",
    "    all_average_scores = []\n",
    "    all_scores = []\n",
    "    for i_episode in range(1, number_episodes + 1):\n",
    "        env_info = env.reset(train_mode=True)[brain_name]  # reset the environment\n",
    "        states = env_info.vector_observations  # get the current state (for each agent)\n",
    "        agent.reset()\n",
    "        state = states[0]\n",
    "        scores = np.zeros(num_agents)  # initialize the score (for each agent)\n",
    "        score = 0\n",
    "        step = 0\n",
    "\n",
    "        start_timestep = time.time()\n",
    "        while True:\n",
    "            # for t in range(max_t):\n",
    "            actions = agent.act(states)\n",
    "            env_info = env.step(actions)[brain_name]\n",
    "            next_states = env_info.vector_observations\n",
    "            rewards = env_info.rewards\n",
    "            dones = env_info.local_done\n",
    "            agent.step(states, actions, rewards, next_states, dones)\n",
    "            states = next_states\n",
    "\n",
    "            score += np.array(rewards)\n",
    "            scores += rewards\n",
    "            step +=1\n",
    "\n",
    "            if any(dones):\n",
    "                break\n",
    "\n",
    "        # scores_deque.append(np.mean(score))\n",
    "        score = np.mean(scores)\n",
    "        scores_deque.append(score)\n",
    "        all_scores.append(score)\n",
    "        average_score = np.mean(scores_deque)\n",
    "\n",
    "        all_average_scores.append(average_score)\n",
    "        # scores.append(np.mean(score))\n",
    "        print('\\rEpisode {}, Average Score: {:.2f}, Max Score: {:.2f}, Min Score: {:.2f}, Time per Episode: {:.2f}' \\\n",
    "              .format(i_episode, average_score, np.max(scores), np.min(scores), time.time() - start_timestep), end=\"\\n\")\n",
    "        print('Epsilon: {} and Memory size: {}'.format(agent.eps, len(agent.memory)))\n",
    "        torch.save(agent.actor_local.state_dict(), saved_models_folder + 'checkpoint_actor.pth')\n",
    "        torch.save(agent.critic_local.state_dict(), saved_models_folder + 'checkpoint_critic.pth')\n",
    "\n",
    "        if i_episode == 1 or best_mean_score < average_score:\n",
    "            best_mean_score = average_score\n",
    "            torch.save(agent.actor_local.state_dict(), saved_models_folder + 'actor_local{}.pth'.format(int(best_mean_score)))\n",
    "            torch.save(agent.critic_local.state_dict(), saved_models_folder + 'critic_local{}.pth'.format(int(best_mean_score)))\n",
    "            torch.save(agent.actor_local.state_dict(), saved_models_folder + 'best_actor_model.pth')\n",
    "            torch.save(agent.critic_local.state_dict(), saved_models_folder + 'best_critic_model.pth')\n",
    "\n",
    "        if i_episode % print_every == 0:\n",
    "            if len(scores_deque) == 100 and np.mean(scores_deque) >= 35:\n",
    "                print('Done!!')\n",
    "                break\n",
    "\n",
    "    return all_average_scores, all_scores\n",
    "\n",
    "average_scores, scores = ddpg()"
   ]
  },
  {
   "cell_type": "code",
   "execution_count": 7,
   "metadata": {},
   "outputs": [
    {
     "data": {
      "image/png": "[encoded data removed]",
      "text/plain": [
       "<Figure size 432x288 with 1 Axes>"
      ]
     },
     "metadata": {
      "needs_background": "light"
     },
     "output_type": "display_data"
    },
    {
     "data": {
      "text/plain": [
       "<Figure size 432x288 with 0 Axes>"
      ]
     },
     "metadata": {},
     "output_type": "display_data"
    }
   ],
   "source": [
    "fig = plt.figure()\n",
    "\n",
    "# plot performance\n",
    "line1, = plt.plot([i for i in range(len(scores))], np.asarray(scores), color=\"blue\", label='Episode Score')\n",
    "line2, = plt.plot([i for i in range(len(average_scores))], list(average_scores), color=\"red\", label='Average Score')\n",
    "\n",
    "plt.ylabel('Score')\n",
    "plt.xlabel('Episode #')\n",
    "plt.legend(handles=[line1, line2], loc=4)\n",
    "plt.show()\n",
    "plt.savefig(saved_models_folder + \"continuous_control_training_performance.pdf\")"
   ]
  },
  {
   "cell_type": "code",
   "execution_count": 8,
   "metadata": {},
   "outputs": [],
   "source": [
    "env.close()"
   ]
  },
  {
   "cell_type": "code",
   "execution_count": null,
   "metadata": {},
   "outputs": [],
   "source": []
  }
 ],
 "metadata": {
  "kernelspec": {
   "display_name": "Python 3",
   "language": "python",
   "name": "python3"
  },
  "language_info": {
   "codemirror_mode": {
    "name": "ipython",
    "version": 3
   },
   "file_extension": ".py",
   "mimetype": "text/x-python",
   "name": "python",
   "nbconvert_exporter": "python",
   "pygments_lexer": "ipython3",
   "version": "3.7.3"
  }
 },
 "nbformat": 4,
 "nbformat_minor": 2
}
